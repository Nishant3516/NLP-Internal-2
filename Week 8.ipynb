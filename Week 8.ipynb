{
 "cells": [
  {
   "cell_type": "markdown",
   "metadata": {},
   "source": [
    "# Week 8\n",
    "Sentiment Analysis"
   ]
  },
  {
   "cell_type": "code",
   "execution_count": 4,
   "metadata": {},
   "outputs": [
    {
     "name": "stderr",
     "output_type": "stream",
     "text": [
      "[nltk_data] Downloading package vader_lexicon to\n",
      "[nltk_data]     C:\\Users\\bansa\\AppData\\Roaming\\nltk_data...\n",
      "[nltk_data]   Package vader_lexicon is already up-to-date!\n"
     ]
    },
    {
     "data": {
      "text/plain": [
       "True"
      ]
     },
     "execution_count": 4,
     "metadata": {},
     "output_type": "execute_result"
    }
   ],
   "source": [
    "import nltk\n",
    "from nltk.sentiment.vader import SentimentIntensityAnalyzer\n",
    "nltk.download('vader_lexicon')"
   ]
  },
  {
   "cell_type": "code",
   "execution_count": 5,
   "metadata": {},
   "outputs": [
    {
     "name": "stdout",
     "output_type": "stream",
     "text": [
      "Review: Absolutely loved this movie! The plot was engaging, the acting was superb, and the visuals were breathtaking. Highly recommend it!\n",
      "Sentiment: {'neg': 0.0, 'neu': 0.468, 'pos': 0.532, 'compound': 0.9522}\n",
      "Review: What a waste of time! The movie was boring, predictable, and the acting was terrible. I wouldn't recommend it to anyone.\n",
      "Sentiment: {'neg': 0.414, 'neu': 0.586, 'pos': 0.0, 'compound': -0.8625}\n",
      "Review: A heartwarming story with incredible performances from the cast. It brought me to tears and I left the theater with a huge smile. Truly uplifting!\n",
      "Sentiment: {'neg': 0.063, 'neu': 0.567, 'pos': 0.37, 'compound': 0.8478}\n",
      "Review: I couldn't get through the first half of the movie. The pacing was slow, and it felt like the story went nowhere. Disappointed.\n",
      "Sentiment: {'neg': 0.0, 'neu': 0.798, 'pos': 0.202, 'compound': 0.6192}\n",
      "Review: The movie was fine, but not great. It had some good moments, but overall it was forgettable. Could have been much better.\n",
      "Sentiment: {'neg': 0.141, 'neu': 0.571, 'pos': 0.289, 'compound': 0.566}\n"
     ]
    }
   ],
   "source": [
    "sia = SentimentIntensityAnalyzer()\n",
    "\n",
    "test_reviews = [\n",
    "    \"Absolutely loved this movie! The plot was engaging, the acting was superb, and the visuals were breathtaking. Highly recommend it!\",\n",
    "    \"What a waste of time! The movie was boring, predictable, and the acting was terrible. I wouldn't recommend it to anyone.\",\n",
    "    \"A heartwarming story with incredible performances from the cast. It brought me to tears and I left the theater with a huge smile. Truly uplifting!\",\n",
    "    \"I couldn't get through the first half of the movie. The pacing was slow, and it felt like the story went nowhere. Disappointed.\",\n",
    "    \"The movie was fine, but not great. It had some good moments, but overall it was forgettable. Could have been much better.\"\n",
    "]\n",
    "\n",
    "for text in test_reviews:\n",
    "    sentiment = sia.polarity_scores(text)\n",
    "    print(f\"Review: {text}\")\n",
    "    print(f\"Sentiment: {sentiment}\")"
   ]
  }
 ],
 "metadata": {
  "kernelspec": {
   "display_name": "Python 3",
   "language": "python",
   "name": "python3"
  },
  "language_info": {
   "codemirror_mode": {
    "name": "ipython",
    "version": 3
   },
   "file_extension": ".py",
   "mimetype": "text/x-python",
   "name": "python",
   "nbconvert_exporter": "python",
   "pygments_lexer": "ipython3",
   "version": "3.12.5"
  }
 },
 "nbformat": 4,
 "nbformat_minor": 2
}
