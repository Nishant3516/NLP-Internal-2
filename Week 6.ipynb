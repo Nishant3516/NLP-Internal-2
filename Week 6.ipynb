{
 "cells": [
  {
   "cell_type": "markdown",
   "metadata": {},
   "source": [
    "# Week 6\n",
    "Use the Stanford named Entity recognizer to extract entities from the documents. Use It programmatically and output for each document which named entities it contains and of Which type."
   ]
  },
  {
   "cell_type": "code",
   "execution_count": null,
   "metadata": {},
   "outputs": [],
   "source": [
    "import subprocess"
   ]
  },
  {
   "cell_type": "code",
   "execution_count": null,
   "metadata": {},
   "outputs": [],
   "source": [
    "def extract_named_entities(text, stanford_ner_path, model_path):\n",
    "    command = [\n",
    "        'java', '-mx300m', '-cp', f'{stanford_ner_path}/stanford-ner.jar',\n",
    "        'edu.stanford.nlp.ie.crf.CRFClassifier',\n",
    "        f'{model_path}/english.all.3class.distsim.crf.ser.gz',\n",
    "        '-textFile', 'input.txt'\n",
    "    ]\n",
    "\n",
    "    with open('input.txt', 'w') as f:\n",
    "        f.write(text)\n",
    "\n",
    "    result = subprocess.run(command, capture_output=True, text=True)\n",
    "\n",
    "    return result.stdout"
   ]
  },
  {
   "cell_type": "code",
   "execution_count": null,
   "metadata": {},
   "outputs": [],
   "source": [
    "documents = [\n",
    "    \"Apple is looking to buy a startup in Silicon Valley. The CEO Tim Cook announced this yesterday.\",\n",
    "    \"Barack Obama was born in Honolulu, Hawaii. He served as the 44th President of the United States.\",\n",
    "    \"Tesla, Inc. is known for its electric vehicles. Elon Musk is the CEO of Tesla.\"\n",
    "]\n",
    "\n",
    "stanford_ner_path = '/path/to/stanford-ner'\n",
    "model_path = '/path/to/stanford-ner/models'"
   ]
  },
  {
   "cell_type": "code",
   "execution_count": null,
   "metadata": {},
   "outputs": [],
   "source": [
    "for i, document_text in enumerate(documents):\n",
    "    print(f\"Document {i + 1}:\")\n",
    "    entities = extract_named_entities(\n",
    "        document_text, stanford_ner_path, model_path)\n",
    "\n",
    "    print(entities)\n",
    "    print(\"=\" * 50)"
   ]
  }
 ],
 "metadata": {
  "kernelspec": {
   "display_name": "Python 3",
   "language": "python",
   "name": "python3"
  },
  "language_info": {
   "name": "python",
   "version": "3.12.5"
  }
 },
 "nbformat": 4,
 "nbformat_minor": 2
}
