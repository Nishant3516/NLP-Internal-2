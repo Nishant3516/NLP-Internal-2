{
 "cells": [
  {
   "cell_type": "markdown",
   "metadata": {},
   "source": [
    "# Week 5b\n",
    "Write a python program to find the probability of the given statement “This is my cat” by taking the an exmple corpus into consideration.\n",
    "    'This is a dog’,\n",
    "    'This is a cat',\n",
    "    'I love my cat',\n",
    "    'This is my name’"
   ]
  },
  {
   "cell_type": "code",
   "execution_count": 1,
   "metadata": {},
   "outputs": [],
   "source": [
    "def readData():\n",
    "    data = ['This is a dog', 'This is a cat',\n",
    "            'I love my cat', 'This is my name ']\n",
    "    dat = []\n",
    "    for i in range(len(data)):\n",
    "        for word in data[i].split():\n",
    "            dat.append(word)\n",
    "    return dat"
   ]
  },
  {
   "cell_type": "code",
   "execution_count": 2,
   "metadata": {},
   "outputs": [],
   "source": [
    "def createBigram(data):\n",
    "    listOfBigrams = []\n",
    "    bigramCounts = {}\n",
    "    unigramCounts = {}\n",
    "    for i in range(len(data)-1):\n",
    "        if i < len(data) - 1 and data[i+1].islower():\n",
    "            listOfBigrams.append((data[i], data[i + 1]))\n",
    "        if (data[i], data[i+1]) in bigramCounts:\n",
    "            bigramCounts[(data[i], data[i + 1])] += 1\n",
    "        else:\n",
    "            bigramCounts[(data[i], data[i + 1])] = 1\n",
    "        if data[i] in unigramCounts:\n",
    "            unigramCounts[data[i]] += 1\n",
    "        else:\n",
    "            unigramCounts[data[i]] = 1\n",
    "    return listOfBigrams, unigramCounts, bigramCounts"
   ]
  },
  {
   "cell_type": "code",
   "execution_count": 3,
   "metadata": {},
   "outputs": [],
   "source": [
    "def calcBigramProb(listOfBigrams, unigramCounts, bigramCounts):\n",
    "    listOfProb = {}\n",
    "    for bigram in listOfBigrams:\n",
    "        word1 = bigram[0]\n",
    "        listOfProb[bigram] = (bigramCounts.get(bigram)) / \\\n",
    "            (unigramCounts.get(word1))\n",
    "    return listOfProb"
   ]
  },
  {
   "cell_type": "code",
   "execution_count": 4,
   "metadata": {},
   "outputs": [
    {
     "name": "stdout",
     "output_type": "stream",
     "text": [
      "\n",
      " All the possible Bigrams are \n",
      "[('This', 'is'), ('is', 'a'), ('a', 'dog'), ('This', 'is'), ('is', 'a'), ('a', 'cat'), ('I', 'love'), ('love', 'my'), ('my', 'cat'), ('This', 'is'), ('is', 'my'), ('my', 'name')]\n",
      "\n",
      " Bigrams along with their frequency \n",
      "{('This', 'is'): 3, ('is', 'a'): 2, ('a', 'dog'): 1, ('dog', 'This'): 1, ('a', 'cat'): 1, ('cat', 'I'): 1, ('I', 'love'): 1, ('love', 'my'): 1, ('my', 'cat'): 1, ('cat', 'This'): 1, ('is', 'my'): 1, ('my', 'name'): 1}\n",
      "\n",
      " Unigrams along with their frequency \n",
      "{'This': 3, 'is': 3, 'a': 2, 'dog': 1, 'cat': 2, 'I': 1, 'love': 1, 'my': 2}\n"
     ]
    }
   ],
   "source": [
    "data = readData()\n",
    "listOfBigrams, unigramCounts, bigramCounts = createBigram(data)\n",
    "\n",
    "print(\"\\n All the possible Bigrams are \")\n",
    "print(listOfBigrams)\n",
    "print(\"\\n Bigrams along with their frequency \")\n",
    "print(bigramCounts)\n",
    "print(\"\\n Unigrams along with their frequency \")\n",
    "print(unigramCounts)"
   ]
  },
  {
   "cell_type": "code",
   "execution_count": 5,
   "metadata": {},
   "outputs": [
    {
     "name": "stdout",
     "output_type": "stream",
     "text": [
      "\n",
      " Bigrams along with their probability \n",
      "{('This', 'is'): 1.0, ('is', 'a'): 0.6666666666666666, ('a', 'dog'): 0.5, ('a', 'cat'): 0.5, ('I', 'love'): 1.0, ('love', 'my'): 1.0, ('my', 'cat'): 0.5, ('is', 'my'): 0.3333333333333333, ('my', 'name'): 0.5}\n"
     ]
    }
   ],
   "source": [
    "bigramProb = calcBigramProb(listOfBigrams, unigramCounts, bigramCounts)\n",
    "print(\"\\n Bigrams along with their probability \")\n",
    "print(bigramProb)"
   ]
  },
  {
   "cell_type": "code",
   "execution_count": 6,
   "metadata": {},
   "outputs": [],
   "source": [
    "inputList = \"This is my cat\"\n",
    "splt = inputList.split()"
   ]
  },
  {
   "cell_type": "code",
   "execution_count": 7,
   "metadata": {},
   "outputs": [],
   "source": [
    "outputProb1 = 1\n",
    "bilist = []\n",
    "bigrm = []"
   ]
  },
  {
   "cell_type": "code",
   "execution_count": 8,
   "metadata": {},
   "outputs": [
    {
     "name": "stdout",
     "output_type": "stream",
     "text": [
      "\n",
      " The bigrams in given sentence are \n",
      "[('This', 'is'), ('is', 'my'), ('my', 'cat')]\n"
     ]
    }
   ],
   "source": [
    "for i in range(len(splt) - 1):\n",
    "    if i < len(splt) - 1:\n",
    "        bilist.append((splt[i], splt[i + 1]))\n",
    "print(\"\\n The bigrams in given sentence are \")\n",
    "print(bilist)"
   ]
  },
  {
   "cell_type": "code",
   "execution_count": 9,
   "metadata": {},
   "outputs": [
    {
     "name": "stdout",
     "output_type": "stream",
     "text": [
      "\n",
      "Probablility of sentence \"This is my cat\" = 0.16666666666666666\n"
     ]
    }
   ],
   "source": [
    "for i in range(len(bilist)):\n",
    "    if bilist[i] in bigramProb:\n",
    "        outputProb1 *= bigramProb[bilist[i]]\n",
    "    else:\n",
    "        outputProb1 *= 0\n",
    "print('\\n' + 'Probablility of sentence \\\"This is my cat\\\" = ' + str(outputProb1))"
   ]
  }
 ],
 "metadata": {
  "kernelspec": {
   "display_name": "Python 3",
   "language": "python",
   "name": "python3"
  },
  "language_info": {
   "codemirror_mode": {
    "name": "ipython",
    "version": 3
   },
   "file_extension": ".py",
   "mimetype": "text/x-python",
   "name": "python",
   "nbconvert_exporter": "python",
   "pygments_lexer": "ipython3",
   "version": "3.12.5"
  }
 },
 "nbformat": 4,
 "nbformat_minor": 2
}
